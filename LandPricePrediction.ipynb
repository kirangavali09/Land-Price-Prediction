{
  "cells": [
    {
      "cell_type": "markdown",
      "metadata": {
        "id": "4MPZ8TUEss23"
      },
      "source": [
        "###LAND PRICE PREDICTION BASED ON SQUARE FEET USING LINEAR REGRESSION\n"
      ]
    },
    {
      "cell_type": "markdown",
      "metadata": {
        "id": "fjRzEkJgvD9j"
      },
      "source": [
        "### Import Library"
      ]
    },
    {
      "cell_type": "code",
      "execution_count": 45,
      "metadata": {
        "id": "jra1vn02kLzq"
      },
      "outputs": [],
      "source": [
        "import pandas as pd #useful for loading the dataset\n",
        "import numpy as np #to perform array\n",
        "from sklearn import linear_model #loading alg.\n",
        "import matplotlib.pyplot as plt #data vis."
      ]
    },
    {
      "cell_type": "markdown",
      "metadata": {
        "id": "g2k8VuX3vRqG"
      },
      "source": [
        "### Load Dataset"
      ]
    },
    {
      "cell_type": "code",
      "execution_count": 46,
      "metadata": {
        "id": "64PbCQu2oHmZ"
      },
      "outputs": [],
      "source": [
        "dataset = pd.read_csv('landpriceprediction.csv')"
      ]
    },
    {
      "cell_type": "markdown",
      "metadata": {
        "id": "Fua0gL0AvZNo"
      },
      "source": [
        "### Load Summarize"
      ]
    },
    {
      "cell_type": "code",
      "execution_count": 47,
      "metadata": {
        "colab": {
          "base_uri": "https://localhost:8080/"
        },
        "id": "Z-Z5RLwavYBN",
        "outputId": "81b76cb4-a7dc-4fcc-a12b-4138ea2c5a87"
      },
      "outputs": [
        {
          "name": "stdout",
          "output_type": "stream",
          "text": [
            "(10, 2)\n",
            "   land  price\n",
            "0  1000   2245\n",
            "1  2000   4575\n",
            "2  3000   6874\n",
            "3  4000   8878\n",
            "4  5000  10589\n"
          ]
        }
      ],
      "source": [
        "print(dataset.shape)\n",
        "print(dataset.head(5))"
      ]
    },
    {
      "cell_type": "markdown",
      "metadata": {
        "id": "xMlGIgUgvip3"
      },
      "source": [
        "### Visualize Dataset"
      ]
    },
    {
      "cell_type": "code",
      "execution_count": 48,
      "metadata": {
        "colab": {
          "base_uri": "https://localhost:8080/",
          "height": 296
        },
        "id": "4vR2g-C1kxSi",
        "outputId": "559e967d-4232-4d78-f36e-71a30c158d95"
      },
      "outputs": [
        {
          "data": {
            "text/plain": [
              "<matplotlib.collections.PathCollection at 0xe9ec58>"
            ]
          },
          "execution_count": 48,
          "metadata": {},
          "output_type": "execute_result"
        },
        {
          "data": {
            "image/png": "[encoded data removed]",
            "text/plain": [
              "<Figure size 432x288 with 1 Axes>"
            ]
          },
          "metadata": {
            "needs_background": "light"
          },
          "output_type": "display_data"
        }
      ],
      "source": [
        "plt.xlabel('land')\n",
        "plt.ylabel('price')\n",
        "plt.scatter(dataset.land,dataset.price,color='red',marker='*')"
      ]
    },
    {
      "cell_type": "markdown",
      "metadata": {
        "id": "9h7MM0r7vws9"
      },
      "source": [
        "### Segregate Dataset into Input X & Output Y"
      ]
    },
    {
      "cell_type": "code",
      "execution_count": 49,
      "metadata": {
        "colab": {
          "base_uri": "https://localhost:8080/",
          "height": 359
        },
        "id": "fVsccRkOkyvr",
        "outputId": "8d0bf952-554a-4e29-b6c0-ca7080794844"
      },
      "outputs": [
        {
          "data": {
            "text/html": [
              "<div>\n",
              "<style scoped>\n",
              "    .dataframe tbody tr th:only-of-type {\n",
              "        vertical-align: middle;\n",
              "    }\n",
              "\n",
              "    .dataframe tbody tr th {\n",
              "        vertical-align: top;\n",
              "    }\n",
              "\n",
              "    .dataframe thead th {\n",
              "        text-align: right;\n",
              "    }\n",
              "</style>\n",
              "<table border=\"1\" class=\"dataframe\">\n",
              "  <thead>\n",
              "    <tr style=\"text-align: right;\">\n",
              "      <th></th>\n",
              "      <th>land</th>\n",
              "    </tr>\n",
              "  </thead>\n",
              "  <tbody>\n",
              "    <tr>\n",
              "      <th>0</th>\n",
              "      <td>1000</td>\n",
              "    </tr>\n",
              "    <tr>\n",
              "      <th>1</th>\n",
              "      <td>2000</td>\n",
              "    </tr>\n",
              "    <tr>\n",
              "      <th>2</th>\n",
              "      <td>3000</td>\n",
              "    </tr>\n",
              "    <tr>\n",
              "      <th>3</th>\n",
              "      <td>4000</td>\n",
              "    </tr>\n",
              "    <tr>\n",
              "      <th>4</th>\n",
              "      <td>5000</td>\n",
              "    </tr>\n",
              "    <tr>\n",
              "      <th>5</th>\n",
              "      <td>6000</td>\n",
              "    </tr>\n",
              "    <tr>\n",
              "      <th>6</th>\n",
              "      <td>7000</td>\n",
              "    </tr>\n",
              "    <tr>\n",
              "      <th>7</th>\n",
              "      <td>8000</td>\n",
              "    </tr>\n",
              "    <tr>\n",
              "      <th>8</th>\n",
              "      <td>9000</td>\n",
              "    </tr>\n",
              "    <tr>\n",
              "      <th>9</th>\n",
              "      <td>10000</td>\n",
              "    </tr>\n",
              "  </tbody>\n",
              "</table>\n",
              "</div>"
            ],
            "text/plain": [
              "    land\n",
              "0   1000\n",
              "1   2000\n",
              "2   3000\n",
              "3   4000\n",
              "4   5000\n",
              "5   6000\n",
              "6   7000\n",
              "7   8000\n",
              "8   9000\n",
              "9  10000"
            ]
          },
          "execution_count": 49,
          "metadata": {},
          "output_type": "execute_result"
        }
      ],
      "source": [
        "land = dataset.drop('price',axis='columns')\n",
        "land"
      ]
    },
    {
      "cell_type": "code",
      "execution_count": 50,
      "metadata": {
        "colab": {
          "base_uri": "https://localhost:8080/"
        },
        "id": "zoyYytImMcla",
        "outputId": "86a1f1ae-5691-4b7d-e986-95d321cefbf8"
      },
      "outputs": [
        {
          "data": {
            "text/plain": [
              "0     2245\n",
              "1     4575\n",
              "2     6874\n",
              "3     8878\n",
              "4    10589\n",
              "5    12457\n",
              "6    14785\n",
              "7    16785\n",
              "8    18958\n",
              "9    20789\n",
              "Name: price, dtype: int64"
            ]
          },
          "execution_count": 50,
          "metadata": {},
          "output_type": "execute_result"
        }
      ],
      "source": [
        "price = dataset.price\n",
        "price"
      ]
    },
    {
      "cell_type": "markdown",
      "metadata": {
        "id": "r4DGf-hwwEFB"
      },
      "source": [
        "### Training Dataset using Linear Regression"
      ]
    },
    {
      "cell_type": "code",
      "execution_count": 51,
      "metadata": {
        "colab": {
          "base_uri": "https://localhost:8080/"
        },
        "id": "UOGY5Khmk9eq",
        "outputId": "983e6007-340c-45fb-bb89-0f23642bdee8"
      },
      "outputs": [
        {
          "data": {
            "text/plain": [
              "LinearRegression(copy_X=True, fit_intercept=True, n_jobs=None, normalize=False)"
            ]
          },
          "execution_count": 51,
          "metadata": {},
          "output_type": "execute_result"
        }
      ],
      "source": [
        "model = linear_model.LinearRegression()\n",
        "model.fit(land,price)"
      ]
    },
    {
      "cell_type": "markdown",
      "metadata": {
        "id": "TKcv6a3LwKDn"
      },
      "source": [
        "### Predicted Price for Land sq.Feet of 1750\n",
        "\n"
      ]
    },
    {
      "cell_type": "code",
      "execution_count": 52,
      "metadata": {
        "colab": {
          "base_uri": "https://localhost:8080/"
        },
        "id": "eM0OhYo9k_UU",
        "outputId": "b70662e2-5976-4781-842a-0fee0de732ee"
      },
      "outputs": [
        {
          "name": "stdout",
          "output_type": "stream",
          "text": [
            "[4040.75]\n"
          ]
        }
      ],
      "source": [
        "LandAreainSqFt=[[1750]]\n",
        "PredictedmodelResult = model.predict(LandAreainSqFt)\n",
        "print(PredictedmodelResult)"
      ]
    },
    {
      "cell_type": "markdown",
      "metadata": {
        "id": "hnBobdUqxzOm"
      },
      "source": [
        "### Let's check is our model is Right ?\n",
        "### Theory Calculation\n",
        "### Y = m * X + b (m is coefficient and b is intercept)"
      ]
    },
    {
      "cell_type": "markdown",
      "metadata": {
        "id": "7RBIN1v3yHy_"
      },
      "source": [
        "Coefficient - m\n"
      ]
    },
    {
      "cell_type": "code",
      "execution_count": 53,
      "metadata": {
        "colab": {
          "base_uri": "https://localhost:8080/"
        },
        "id": "Sh4BR5APlAxf",
        "outputId": "8436f788-0617-4edc-c841-4f4c36546e87"
      },
      "outputs": [
        {
          "name": "stdout",
          "output_type": "stream",
          "text": [
            "[2.04073333]\n"
          ]
        }
      ],
      "source": [
        "m=model.coef_\n",
        "print(m)"
      ]
    },
    {
      "cell_type": "markdown",
      "metadata": {
        "id": "jzezRXH5yMZx"
      },
      "source": [
        "Intercept - b"
      ]
    },
    {
      "cell_type": "code",
      "execution_count": 54,
      "metadata": {
        "colab": {
          "base_uri": "https://localhost:8080/"
        },
        "id": "C82MBXfolJkt",
        "outputId": "af40ed55-0573-4010-9270-5a27cf60a3ee"
      },
      "outputs": [
        {
          "name": "stdout",
          "output_type": "stream",
          "text": [
            "469.46666666666715\n"
          ]
        }
      ],
      "source": [
        "b=model.intercept_\n",
        "print(b)"
      ]
    },
    {
      "cell_type": "markdown",
      "metadata": {
        "id": "n_vWFYMqyayh"
      },
      "source": [
        "### Y=mx+b\n",
        "\n",
        "x is Independant variable - Input - area"
      ]
    },
    {
      "cell_type": "code",
      "execution_count": 55,
      "metadata": {
        "colab": {
          "base_uri": "https://localhost:8080/"
        },
        "id": "KTOlZXcclMxg",
        "outputId": "6bfc80d1-3b51-4140-902c-db1f1d1e3278"
      },
      "outputs": [
        {
          "name": "stdout",
          "output_type": "stream",
          "text": [
            "The Price of [[1750]] Square feet Land is: [4040.75]\n"
          ]
        }
      ],
      "source": [
        "y = m*1750 + b\n",
        "print(\"The Price of {0} Square feet Land is: {1}\".format(LandAreainSqFt,y))"
      ]
    }
  ],
  "metadata": {
    "colab": {
      "collapsed_sections": [],
      "name": "LandPricePrediction.ipynb",
      "provenance": []
    },
    "kernelspec": {
      "display_name": "Python 3",
      "name": "python3"
    },
    "language_info": {
      "codemirror_mode": {
        "name": "ipython",
        "version": 3
      },
      "file_extension": ".py",
      "mimetype": "text/x-python",
      "name": "python",
      "nbconvert_exporter": "python",
      "pygments_lexer": "ipython3",
      "version": "3.8.5"
    }
  },
  "nbformat": 4,
  "nbformat_minor": 0
}
